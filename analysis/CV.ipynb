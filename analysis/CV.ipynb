{
 "cells": [
  {
   "cell_type": "code",
   "execution_count": 1,
   "metadata": {},
   "outputs": [],
   "source": [
    "import MDAnalysis as mda \n",
    "import numpy as np \n"
   ]
  },
  {
   "cell_type": "code",
   "execution_count": null,
   "metadata": {},
   "outputs": [],
   "source": [
    "u = mda.Universe('$PRMTOP_FILE', '$DCD_FILE')"
   ]
  },
  {
   "cell_type": "code",
   "execution_count": 2,
   "metadata": {},
   "outputs": [],
   "source": [
    "def lesion_extrusion_dna_no_rad4(u):  # Figure 3 \n",
    "    cv  = []\n",
    "    for _ in u.trajectory:\n",
    "        g1 = u.select_atoms(\"resid 37 and not type H*\")\n",
    "        g2 = u.select_atoms(\"resid 18 21 and not type H*\")\n",
    "        dist = np.linalg.norm(g1.center_of_mass() - g2.center_of_mass())\n",
    "        cv.append(dist)\n",
    "\n",
    "    return cv"
   ]
  },
  {
   "cell_type": "code",
   "execution_count": null,
   "metadata": {},
   "outputs": [],
   "source": [
    "def partner_base_5_flip(u):\n",
    "    cv  = []\n",
    "    for _ in u.trajectory:\n",
    "        g1 = u.select_atoms(\"resid 584 and not type H*\")\n",
    "        g2 = u.select_atoms(\"resid 375 376 377 and not type H*\")\n",
    "        \n",
    "        \n",
    "        dist = np.linalg.norm(g1.center_of_mass() - g2.center_of_mass())\n",
    "        cv.append(dist)\n",
    "\n",
    "    return cv"
   ]
  },
  {
   "cell_type": "code",
   "execution_count": 4,
   "metadata": {},
   "outputs": [],
   "source": [
    "def lesion_extrusion(u):\n",
    "    cv  = []\n",
    "    for _ in u.trajectory:\n",
    "        g1 = u.select_atoms(\"resid 602 and not type H*\")\n",
    "        g2 = u.select_atoms(\"resid 583 586 and not type H*\")\n",
    "        dist = np.linalg.norm(g1.center_of_mass() - g2.center_of_mass())\n",
    "        cv.append(dist)\n",
    "\n",
    "    return cv"
   ]
  },
  {
   "cell_type": "code",
   "execution_count": 5,
   "metadata": {},
   "outputs": [],
   "source": [
    "def BHD2_insertion(u): \n",
    "    cv  = []\n",
    "    for _ in u.trajectory:\n",
    "        g1 = u.select_atoms(\"(resid 392 to 406) and not type H*\")\n",
    "        g2 = u.select_atoms(\"resid 583 586 601 603 and not type H*\")\n",
    "        dist = np.linalg.norm(g1.center_of_mass() - g2.center_of_mass())\n",
    "        cv.append(dist)\n",
    "\n",
    "    return cv\n",
    "        \n"
   ]
  },
  {
   "cell_type": "code",
   "execution_count": null,
   "metadata": {},
   "outputs": [],
   "source": [
    "def BHD3_Insertion(u):\n",
    "    cv  = []\n",
    "    for _ in u.trajectory:\n",
    "        g1 = u.select_atoms(\"resid 475 to 485 and not type H*\")\n",
    "        g2 = u.select_atoms(\"resid 583 586 601 603 and not type H*\")\n",
    "        dist = np.linalg.norm(g1.center_of_mass() - g2.center_of_mass())\n",
    "        cv.append(dist)\n",
    "\n",
    "    return cv"
   ]
  },
  {
   "cell_type": "code",
   "execution_count": null,
   "metadata": {},
   "outputs": [],
   "source": [
    "def partner_base_3_flip(u):\n",
    "    cv  = []\n",
    "    for _ in u.trajectory:\n",
    "        g1 = u.select_atoms(\"resid 585 and not type H*\")\n",
    "        g2 = u.select_atoms(\"resid 434 and not type H*\")\n",
    "        dist = np.linalg.norm(g1.center_of_mass() - g2.center_of_mass())\n",
    "        cv.append(dist)\n",
    "\n",
    "    return cv"
   ]
  }
 ],
 "metadata": {
  "kernelspec": {
   "display_name": "research",
   "language": "python",
   "name": "python3"
  },
  "language_info": {
   "codemirror_mode": {
    "name": "ipython",
    "version": 3
   },
   "file_extension": ".py",
   "mimetype": "text/x-python",
   "name": "python",
   "nbconvert_exporter": "python",
   "pygments_lexer": "ipython3",
   "version": "3.12.8"
  }
 },
 "nbformat": 4,
 "nbformat_minor": 2
}
